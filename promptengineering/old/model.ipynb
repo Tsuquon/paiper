{
 "cells": [
  {
   "cell_type": "code",
   "execution_count": 1,
   "id": "da9b58d2-607d-441f-a2d2-6a16b40dce5d",
   "metadata": {},
   "outputs": [],
   "source": [
    "from fastai.collab import *\n",
    "from fastai.tabular.all import *\n",
    "path = untar_data(URLs.ML_100k)\n",
    "pd.options.display.max_rows = 7"
   ]
  },
  {
   "cell_type": "code",
   "execution_count": 5,
   "id": "a358500d-e495-4ddb-af8b-d52f56d4404e",
   "metadata": {
    "tags": []
   },
   "outputs": [
    {
     "data": {
      "text/html": [
       "<div>\n",
       "<style scoped>\n",
       "    .dataframe tbody tr th:only-of-type {\n",
       "        vertical-align: middle;\n",
       "    }\n",
       "\n",
       "    .dataframe tbody tr th {\n",
       "        vertical-align: top;\n",
       "    }\n",
       "\n",
       "    .dataframe thead th {\n",
       "        text-align: right;\n",
       "    }\n",
       "</style>\n",
       "<table border=\"1\" class=\"dataframe\">\n",
       "  <thead>\n",
       "    <tr style=\"text-align: right;\">\n",
       "      <th></th>\n",
       "      <th>user</th>\n",
       "      <th>item</th>\n",
       "      <th>rating</th>\n",
       "      <th>timestamp</th>\n",
       "    </tr>\n",
       "  </thead>\n",
       "  <tbody>\n",
       "    <tr>\n",
       "      <th>0</th>\n",
       "      <td>196</td>\n",
       "      <td>242</td>\n",
       "      <td>3</td>\n",
       "      <td>881250949</td>\n",
       "    </tr>\n",
       "    <tr>\n",
       "      <th>1</th>\n",
       "      <td>186</td>\n",
       "      <td>302</td>\n",
       "      <td>3</td>\n",
       "      <td>891717742</td>\n",
       "    </tr>\n",
       "    <tr>\n",
       "      <th>2</th>\n",
       "      <td>22</td>\n",
       "      <td>377</td>\n",
       "      <td>1</td>\n",
       "      <td>878887116</td>\n",
       "    </tr>\n",
       "    <tr>\n",
       "      <th>3</th>\n",
       "      <td>244</td>\n",
       "      <td>51</td>\n",
       "      <td>2</td>\n",
       "      <td>880606923</td>\n",
       "    </tr>\n",
       "    <tr>\n",
       "      <th>4</th>\n",
       "      <td>166</td>\n",
       "      <td>346</td>\n",
       "      <td>1</td>\n",
       "      <td>886397596</td>\n",
       "    </tr>\n",
       "  </tbody>\n",
       "</table>\n",
       "</div>"
      ],
      "text/plain": [
       "   user  item  rating  timestamp\n",
       "0   196   242       3  881250949\n",
       "1   186   302       3  891717742\n",
       "2    22   377       1  878887116\n",
       "3   244    51       2  880606923\n",
       "4   166   346       1  886397596"
      ]
     },
     "execution_count": 5,
     "metadata": {},
     "output_type": "execute_result"
    }
   ],
   "source": [
    "ratings = pd.read_csv(path/'u.data', delimiter='\\t', header=None,\n",
    "                      names=['user','item','rating','timestamp'])\n",
    "ratings.head()"
   ]
  },
  {
   "cell_type": "code",
   "execution_count": 6,
   "id": "e4b08050-4276-4694-832d-9036e3d7ff4c",
   "metadata": {
    "tags": []
   },
   "outputs": [
    {
     "data": {
      "text/html": [
       "<table border=\"1\" class=\"dataframe\">\n",
       "  <thead>\n",
       "    <tr style=\"text-align: right;\">\n",
       "      <th></th>\n",
       "      <th>user</th>\n",
       "      <th>item</th>\n",
       "      <th>rating</th>\n",
       "    </tr>\n",
       "  </thead>\n",
       "  <tbody>\n",
       "    <tr>\n",
       "      <th>0</th>\n",
       "      <td>181</td>\n",
       "      <td>1011</td>\n",
       "      <td>1</td>\n",
       "    </tr>\n",
       "    <tr>\n",
       "      <th>1</th>\n",
       "      <td>326</td>\n",
       "      <td>205</td>\n",
       "      <td>4</td>\n",
       "    </tr>\n",
       "    <tr>\n",
       "      <th>2</th>\n",
       "      <td>8</td>\n",
       "      <td>210</td>\n",
       "      <td>4</td>\n",
       "    </tr>\n",
       "    <tr>\n",
       "      <th>3</th>\n",
       "      <td>71</td>\n",
       "      <td>134</td>\n",
       "      <td>3</td>\n",
       "    </tr>\n",
       "    <tr>\n",
       "      <th>4</th>\n",
       "      <td>479</td>\n",
       "      <td>1016</td>\n",
       "      <td>3</td>\n",
       "    </tr>\n",
       "    <tr>\n",
       "      <th>5</th>\n",
       "      <td>823</td>\n",
       "      <td>204</td>\n",
       "      <td>4</td>\n",
       "    </tr>\n",
       "    <tr>\n",
       "      <th>6</th>\n",
       "      <td>381</td>\n",
       "      <td>526</td>\n",
       "      <td>4</td>\n",
       "    </tr>\n",
       "    <tr>\n",
       "      <th>7</th>\n",
       "      <td>82</td>\n",
       "      <td>220</td>\n",
       "      <td>2</td>\n",
       "    </tr>\n",
       "    <tr>\n",
       "      <th>8</th>\n",
       "      <td>6</td>\n",
       "      <td>202</td>\n",
       "      <td>3</td>\n",
       "    </tr>\n",
       "    <tr>\n",
       "      <th>9</th>\n",
       "      <td>268</td>\n",
       "      <td>169</td>\n",
       "      <td>5</td>\n",
       "    </tr>\n",
       "  </tbody>\n",
       "</table>"
      ],
      "text/plain": [
       "<IPython.core.display.HTML object>"
      ]
     },
     "metadata": {},
     "output_type": "display_data"
    }
   ],
   "source": [
    "dls = CollabDataLoaders.from_df(ratings, item_name='item', bs=64)\n",
    "dls.show_batch()"
   ]
  },
  {
   "cell_type": "code",
   "execution_count": 100,
   "id": "c71ef6a0-4f9a-472f-bbd1-e73a02d61a1f",
   "metadata": {
    "tags": []
   },
   "outputs": [],
   "source": [
    "n_users = len(dls.classes['user'])\n",
    "n_items = len(dls.classes['item'])\n",
    "\n",
    "\n",
    "def predict(embedding, bias, model, y_range=(0, 5.5)):\n",
    "    result = []\n",
    "    for i in range(len(model.item_factors.weight)):\n",
    "        items = model.item_factors.weight[i]\n",
    "        res = (embedding * items).sum(dim = [0], keepdim= True)\n",
    "        res += bias + model.item_bias.weight[i]\n",
    "        result.append(sigmoid_range(res, *y_range))\n",
    "    return result"
   ]
  },
  {
   "cell_type": "code",
   "execution_count": 48,
   "id": "a58fe430-6efa-4573-8446-4dafb6b19745",
   "metadata": {
    "tags": []
   },
   "outputs": [],
   "source": [
    "class DotProductBias(Module):\n",
    "    def __init__(self, n_users, n_items, n_factors, y_range=(0, 5.5)):\n",
    "        self.user_factors = Embedding(n_users, n_factors)\n",
    "        self.user_bias = Embedding(n_users, 1)\n",
    "        \n",
    "        self.item_factors = Embedding(n_items, n_factors)\n",
    "        self.item_bias = Embedding(n_items, 1)\n",
    "        self.y_range = y_range\n",
    "        \n",
    "    def forward(self, x):\n",
    "        users = self.user_factors(x[:,0])\n",
    "        items = self.item_factors(x[:,1])\n",
    "        res = (users * items).sum(dim=1, keepdim=True)\n",
    "        res += self.user_bias(x[:,0]) + self.item_bias(x[:,1])\n",
    "        return sigmoid_range(res, *self.y_range)"
   ]
  },
  {
   "cell_type": "code",
   "execution_count": 58,
   "id": "d9651ffe-375e-40fa-8706-b952cb8d8101",
   "metadata": {
    "tags": []
   },
   "outputs": [],
   "source": [
    "model = DotProductBias(n_users, n_items, 50)"
   ]
  },
  {
   "cell_type": "code",
   "execution_count": 42,
   "id": "9baae225-4bd2-4b5c-beee-a4baf9214b19",
   "metadata": {
    "tags": []
   },
   "outputs": [
    {
     "data": {
      "text/html": [
       "\n",
       "<style>\n",
       "    /* Turns off some styling */\n",
       "    progress {\n",
       "        /* gets rid of default border in Firefox and Opera. */\n",
       "        border: none;\n",
       "        /* Needs to be in here for Safari polyfill so background images work as expected. */\n",
       "        background-size: auto;\n",
       "    }\n",
       "    progress:not([value]), progress:not([value])::-webkit-progress-bar {\n",
       "        background: repeating-linear-gradient(45deg, #7e7e7e, #7e7e7e 10px, #5c5c5c 10px, #5c5c5c 20px);\n",
       "    }\n",
       "    .progress-bar-interrupted, .progress-bar-interrupted::-webkit-progress-bar {\n",
       "        background: #F44336;\n",
       "    }\n",
       "</style>\n"
      ],
      "text/plain": [
       "<IPython.core.display.HTML object>"
      ]
     },
     "metadata": {},
     "output_type": "display_data"
    },
    {
     "data": {
      "text/html": [
       "<table border=\"1\" class=\"dataframe\">\n",
       "  <thead>\n",
       "    <tr style=\"text-align: left;\">\n",
       "      <th>epoch</th>\n",
       "      <th>train_loss</th>\n",
       "      <th>valid_loss</th>\n",
       "      <th>time</th>\n",
       "    </tr>\n",
       "  </thead>\n",
       "  <tbody>\n",
       "    <tr>\n",
       "      <td>0</td>\n",
       "      <td>0.942658</td>\n",
       "      <td>0.946143</td>\n",
       "      <td>00:18</td>\n",
       "    </tr>\n",
       "    <tr>\n",
       "      <td>1</td>\n",
       "      <td>0.848190</td>\n",
       "      <td>0.869783</td>\n",
       "      <td>00:17</td>\n",
       "    </tr>\n",
       "    <tr>\n",
       "      <td>2</td>\n",
       "      <td>0.632458</td>\n",
       "      <td>0.871360</td>\n",
       "      <td>00:20</td>\n",
       "    </tr>\n",
       "    <tr>\n",
       "      <td>3</td>\n",
       "      <td>0.405010</td>\n",
       "      <td>0.896552</td>\n",
       "      <td>00:27</td>\n",
       "    </tr>\n",
       "    <tr>\n",
       "      <td>4</td>\n",
       "      <td>0.305068</td>\n",
       "      <td>0.903306</td>\n",
       "      <td>00:16</td>\n",
       "    </tr>\n",
       "  </tbody>\n",
       "</table>"
      ],
      "text/plain": [
       "<IPython.core.display.HTML object>"
      ]
     },
     "metadata": {},
     "output_type": "display_data"
    }
   ],
   "source": [
    "learn = Learner(dls, model, loss_func=MSELossFlat())\n",
    "learn.fit_one_cycle(5, 5e-3)"
   ]
  },
  {
   "cell_type": "code",
   "execution_count": 101,
   "id": "7f363dce-3c8a-45b9-8869-58767010a374",
   "metadata": {
    "tags": []
   },
   "outputs": [],
   "source": [
    "user_emb = model.user_factors.weight.detach().numpy()\n",
    "movie_emb = model.item_factors.weight.detach().numpy()"
   ]
  },
  {
   "cell_type": "code",
   "execution_count": 102,
   "id": "3e50b684-9b96-479a-a468-70e3c907781b",
   "metadata": {
    "tags": []
   },
   "outputs": [
    {
     "data": {
      "text/plain": [
       "array([[ 0.00300561,  0.00545409,  0.01611459, ..., -0.00802541,\n",
       "         0.00308865,  0.00795598],\n",
       "       [ 0.00669236,  0.00808851,  0.01297864, ..., -0.00057372,\n",
       "        -0.00163801,  0.01362812],\n",
       "       [-0.01565048, -0.00688873, -0.01458677, ...,  0.00641689,\n",
       "        -0.00631771,  0.00134724],\n",
       "       ...,\n",
       "       [ 0.01662381,  0.00019943,  0.01268094, ...,  0.00234189,\n",
       "         0.01166631,  0.00349365],\n",
       "       [-0.007628  ,  0.01005244,  0.01886861, ...,  0.00227216,\n",
       "        -0.00410348,  0.00831523],\n",
       "       [ 0.0010237 ,  0.00279218, -0.00380604, ..., -0.00625532,\n",
       "         0.00921197, -0.00944525]], dtype=float32)"
      ]
     },
     "execution_count": 102,
     "metadata": {},
     "output_type": "execute_result"
    }
   ],
   "source": [
    "user_emb"
   ]
  },
  {
   "cell_type": "code",
   "execution_count": 103,
   "id": "f255597b-4566-4de7-a24b-44b3c95fc908",
   "metadata": {
    "tags": []
   },
   "outputs": [
    {
     "data": {
      "text/plain": [
       "array([[-5.8677136e-03,  3.9618937e-03,  1.5583890e-05, ...,\n",
       "         1.5084865e-02,  1.7483649e-03, -1.4155526e-02],\n",
       "       [ 7.2811120e-03,  1.4047501e-02,  4.5355987e-03, ...,\n",
       "         9.4377827e-03, -3.7961430e-04,  1.5529155e-04],\n",
       "       [ 1.8577771e-02,  8.4566325e-03, -9.7586011e-04, ...,\n",
       "         7.3408271e-04,  4.1882214e-03, -1.7212344e-02],\n",
       "       ...,\n",
       "       [-2.9755672e-03,  5.8503868e-04,  1.1957907e-02, ...,\n",
       "         6.0175359e-03, -2.2901578e-03, -1.9396229e-02],\n",
       "       [-4.7475412e-03, -1.2245819e-02,  8.7677287e-03, ...,\n",
       "        -1.8009342e-02, -9.6471095e-03, -1.8564990e-02],\n",
       "       [-4.9810829e-03, -9.7797695e-04, -2.1940868e-03, ...,\n",
       "        -1.2025703e-02,  1.0768735e-02, -5.8419355e-03]], dtype=float32)"
      ]
     },
     "execution_count": 103,
     "metadata": {},
     "output_type": "execute_result"
    }
   ],
   "source": [
    "movie_emb"
   ]
  },
  {
   "cell_type": "code",
   "execution_count": null,
   "id": "41d44323-c31b-4175-bf4e-c345daa19d57",
   "metadata": {},
   "outputs": [],
   "source": [
    "def create_matrix(df):\n",
    "     matrix = np.matrix("
   ]
  },
  {
   "cell_type": "code",
   "execution_count": null,
   "id": "a4efb171-766f-4255-aff1-c776356708f7",
   "metadata": {},
   "outputs": [],
   "source": [
    "def find_similar_user(user_ratings):\n",
    "    \"\"\" Input user ratings of  1 x Items\"\"\"\n",
    "    # compute cosine similarities:\n",
    "   \n",
    "    "
   ]
  },
  {
   "cell_type": "code",
   "execution_count": 50,
   "id": "ed5aff90-e383-42d9-8eeb-ce944f4e3d67",
   "metadata": {
    "tags": []
   },
   "outputs": [
    {
     "data": {
      "text/plain": [
       "Parameter containing:\n",
       "tensor([[ 4.4804e-03, -6.5241e-03,  1.2256e-02,  ..., -1.1129e-02,\n",
       "         -1.0121e-02, -1.9264e-02],\n",
       "        [-5.7384e-03,  3.6114e-03, -7.6112e-04,  ..., -1.0173e-03,\n",
       "          9.5150e-04, -1.1986e-02],\n",
       "        [ 1.4777e-02,  9.5049e-03,  2.9941e-03,  ...,  4.5610e-03,\n",
       "          5.8208e-03,  1.7355e-03],\n",
       "        ...,\n",
       "        [-2.4754e-03,  7.5255e-03,  4.3815e-03,  ...,  3.2147e-03,\n",
       "         -1.3365e-03,  1.0554e-02],\n",
       "        [-1.1059e-02, -2.6476e-03,  1.2577e-02,  ..., -8.3473e-03,\n",
       "         -6.3037e-03, -4.5673e-05],\n",
       "        [ 3.0410e-03,  6.8900e-03, -1.6294e-02,  ..., -2.3765e-03,\n",
       "          4.4283e-03,  6.5018e-04]], requires_grad=True)"
      ]
     },
     "execution_count": 50,
     "metadata": {},
     "output_type": "execute_result"
    }
   ],
   "source": [
    "model.item_factors.weight"
   ]
  },
  {
   "cell_type": "code",
   "execution_count": 99,
   "id": "fb1a5bdd-c360-4712-ba00-67bba10cf82e",
   "metadata": {
    "tags": []
   },
   "outputs": [
    {
     "ename": "AttributeError",
     "evalue": "'list' object has no attribute 'idxmax'",
     "output_type": "error",
     "traceback": [
      "\u001b[0;31m---------------------------------------------------------------------------\u001b[0m",
      "\u001b[0;31mAttributeError\u001b[0m                            Traceback (most recent call last)",
      "Cell \u001b[0;32mIn[99], line 1\u001b[0m\n\u001b[0;32m----> 1\u001b[0m \u001b[43mpredict\u001b[49m\u001b[43m(\u001b[49m\u001b[43mtest_emb\u001b[49m\u001b[43m,\u001b[49m\u001b[43m \u001b[49m\u001b[43mtest_bias\u001b[49m\u001b[43m,\u001b[49m\u001b[43m \u001b[49m\u001b[43mmodel\u001b[49m\u001b[43m)\u001b[49m\u001b[38;5;241;43m.\u001b[39;49m\u001b[43midxmax\u001b[49m\n",
      "\u001b[0;31mAttributeError\u001b[0m: 'list' object has no attribute 'idxmax'"
     ]
    }
   ],
   "source": [
    "predict(test_emb, test_bias, model)"
   ]
  },
  {
   "cell_type": "code",
   "execution_count": 65,
   "id": "8d1f1df4-b158-4c43-9d78-1ed684decdaa",
   "metadata": {
    "tags": []
   },
   "outputs": [
    {
     "data": {
      "text/plain": [
       "tensor([ 0.0073,  0.0140,  0.0045,  0.0022,  0.0004,  0.0134,  0.0004,  0.0141,\n",
       "         0.0106, -0.0015,  0.0021, -0.0028,  0.0034, -0.0046, -0.0010, -0.0039,\n",
       "         0.0005,  0.0019, -0.0086,  0.0061,  0.0058, -0.0064, -0.0136, -0.0046,\n",
       "        -0.0094,  0.0060,  0.0082, -0.0001,  0.0041, -0.0024, -0.0022,  0.0011,\n",
       "        -0.0128,  0.0083,  0.0183,  0.0036,  0.0058,  0.0095, -0.0092,  0.0129,\n",
       "         0.0025, -0.0079, -0.0078,  0.0120,  0.0074,  0.0011, -0.0115,  0.0094,\n",
       "        -0.0004,  0.0002], grad_fn=<SelectBackward0>)"
      ]
     },
     "execution_count": 65,
     "metadata": {},
     "output_type": "execute_result"
    }
   ],
   "source": [
    "items = model.item_factors.weight[1]\n",
    "items"
   ]
  },
  {
   "cell_type": "code",
   "execution_count": 87,
   "id": "accd9449-e9b5-4c32-8b98-7b90be535f9f",
   "metadata": {
    "tags": []
   },
   "outputs": [],
   "source": [
    "res = (test_emb * items).sum(dim = [0],keepdim= True)"
   ]
  },
  {
   "cell_type": "code",
   "execution_count": 88,
   "id": "08e019b6-6469-478d-87ed-09fc902b4f38",
   "metadata": {
    "tags": []
   },
   "outputs": [
    {
     "data": {
      "text/plain": [
       "tensor([0.0003], grad_fn=<SumBackward1>)"
      ]
     },
     "execution_count": 88,
     "metadata": {},
     "output_type": "execute_result"
    }
   ],
   "source": [
    "res"
   ]
  },
  {
   "cell_type": "code",
   "execution_count": 82,
   "id": "562aea83-2915-476b-9439-fda58a47765e",
   "metadata": {
    "tags": []
   },
   "outputs": [
    {
     "data": {
      "text/plain": [
       "tensor([0.0168], grad_fn=<SelectBackward0>)"
      ]
     },
     "execution_count": 82,
     "metadata": {},
     "output_type": "execute_result"
    }
   ],
   "source": [
    "test_bias"
   ]
  },
  {
   "cell_type": "code",
   "execution_count": 89,
   "id": "67ff0e93-a7a5-4f66-8624-4b04f6e320c0",
   "metadata": {
    "tags": []
   },
   "outputs": [],
   "source": [
    "res += test_bias"
   ]
  },
  {
   "cell_type": "code",
   "execution_count": 90,
   "id": "6d3659d2-4457-45da-8c8d-0d591e7b05ce",
   "metadata": {
    "tags": []
   },
   "outputs": [
    {
     "data": {
      "text/plain": [
       "tensor([0.0171], grad_fn=<AddBackward0>)"
      ]
     },
     "execution_count": 90,
     "metadata": {},
     "output_type": "execute_result"
    }
   ],
   "source": [
    "res"
   ]
  },
  {
   "cell_type": "code",
   "execution_count": 91,
   "id": "cebbec0d-9b31-4dc6-9dd5-1beeb308cb4c",
   "metadata": {
    "tags": []
   },
   "outputs": [],
   "source": [
    "res += model.item_bias.weight[1]"
   ]
  },
  {
   "cell_type": "code",
   "execution_count": 92,
   "id": "ddb666fa-eb25-49e7-b4d3-d5cba56490e3",
   "metadata": {
    "tags": []
   },
   "outputs": [
    {
     "data": {
      "text/plain": [
       "tensor([0.0175], grad_fn=<AddBackward0>)"
      ]
     },
     "execution_count": 92,
     "metadata": {},
     "output_type": "execute_result"
    }
   ],
   "source": [
    "res"
   ]
  },
  {
   "cell_type": "code",
   "execution_count": 104,
   "id": "a57097da-139c-4ea1-add0-ea72eeb12763",
   "metadata": {
    "tags": []
   },
   "outputs": [],
   "source": [
    "\n",
    "user_emb = model.user_factors.weight.detach().numpy()\n",
    "user_bias = model.user_bias.weight.detach().numpy()\n",
    "\n",
    "item_emb = model.item_factors.weight.detach().numpy()\n",
    "item_bias = model.item_bias.weight.detach().numpy()\n",
    "\n"
   ]
  },
  {
   "cell_type": "code",
   "execution_count": 137,
   "id": "64423226-2131-4784-93ea-4056c932aa76",
   "metadata": {
    "tags": []
   },
   "outputs": [
    {
     "data": {
      "text/plain": [
       "array([[ 0.00235279],\n",
       "       [ 0.00041885],\n",
       "       [-0.00126595],\n",
       "       ...,\n",
       "       [ 0.00110694],\n",
       "       [ 0.01301515],\n",
       "       [ 0.00577711]], dtype=float32)"
      ]
     },
     "execution_count": 137,
     "metadata": {},
     "output_type": "execute_result"
    }
   ],
   "source": [
    "item_bias = model.item_bias.weight.detach().numpy()\n",
    "item_bias"
   ]
  },
  {
   "cell_type": "code",
   "execution_count": 107,
   "id": "2a840874-d694-4d68-901a-1d986791b2e5",
   "metadata": {
    "tags": []
   },
   "outputs": [],
   "source": [
    "result = sorted([(i, np.dot(user_emb[1], item_emb[i])) for i in range(len(item_emb))], key=lambda x: x[1],reverse=True)[:10]"
   ]
  },
  {
   "cell_type": "code",
   "execution_count": 108,
   "id": "8935b9d9-0770-4a38-84b7-d4b7869c2bc2",
   "metadata": {
    "tags": []
   },
   "outputs": [
    {
     "data": {
      "text/plain": [
       "[(1366, 0.0019108081),\n",
       " (773, 0.0015904079),\n",
       " (774, 0.0015387635),\n",
       " (981, 0.0014481905),\n",
       " (1200, 0.0014476026),\n",
       " (668, 0.0014031582),\n",
       " (529, 0.0013899709),\n",
       " (934, 0.0013884301),\n",
       " (1615, 0.0013682997),\n",
       " (198, 0.0013165438)]"
      ]
     },
     "execution_count": 108,
     "metadata": {},
     "output_type": "execute_result"
    }
   ],
   "source": [
    "result"
   ]
  },
  {
   "cell_type": "code",
   "execution_count": 110,
   "id": "4e581626-6eab-4568-a57d-56da08a797cd",
   "metadata": {
    "tags": []
   },
   "outputs": [],
   "source": [
    "result = dict(result)\n",
    "result = sorted(result, key=result.get, reverse=True)"
   ]
  },
  {
   "cell_type": "code",
   "execution_count": 111,
   "id": "26218981-6bda-4515-8def-cb7b03b9e58f",
   "metadata": {
    "tags": []
   },
   "outputs": [
    {
     "data": {
      "text/plain": [
       "[1366, 773, 774, 981, 1200, 668, 529, 934, 1615, 198]"
      ]
     },
     "execution_count": 111,
     "metadata": {},
     "output_type": "execute_result"
    }
   ],
   "source": [
    "result"
   ]
  },
  {
   "cell_type": "code",
   "execution_count": 146,
   "id": "a7c2ee84-c8ab-43b5-8e64-58c75df265ab",
   "metadata": {
    "tags": []
   },
   "outputs": [
    {
     "data": {
      "text/plain": [
       "[494, 585, 1127, 1505, 1010, 1260, 1638, 1596, 718, 348]"
      ]
     },
     "execution_count": 146,
     "metadata": {},
     "output_type": "execute_result"
    }
   ],
   "source": [
    "input_range = (0,5.5)\n",
    "def predict(prediction_embedding, prediction_bias, item_emb, item_bias, n_recommendations, y_range=input_range):\n",
    "    \"\"\" Requires the input of a prediction embedding and prediction bias\n",
    "        \n",
    "        Outputs:\n",
    "        - array of size n_recommendations containing the index of top predicted events\n",
    "        \n",
    "        \n",
    "        For an existing user (id = idx) please input:\n",
    "        - user_emb[idx] as the prediction_embedding\n",
    "        - user_bias[idx] as the prediction_bias\n",
    "    \"\"\"\n",
    "    recommentation_list = []\n",
    "    for i in range(len(item_emb)):\n",
    "        item_embedding = item_emb[i]\n",
    "        item_bias_prediction = item_bias[i]\n",
    "        \n",
    "        # Making predictions for each event in the form (i, predictions)\n",
    "        res = np.dot(prediction_embedding, item_embedding)\n",
    "        res += prediction_bias \n",
    "        res += item_bias_prediction\n",
    "        recommentation_list.append((i,sigmoid_range(torch.from_numpy(res), *y_range)))\n",
    "        \n",
    "    # sort into a list and get only the n_recommendations\n",
    "    recommentation_list = sorted(recommentation_list, key=lambda x: x[1], reverse=True)[:n_recommendations]\n",
    "\n",
    "    # getting only the keys\n",
    "    recommentation_list = dict(recommentation_list)\n",
    "    recommentation_list = sorted(recommentation_list, key=recommentation_list.get, reverse=True)\n",
    "    return recommentation_list\n",
    "\n",
    "\n",
    "    \n",
    "#### SAMPLE USAGE ##############\n",
    "\n",
    "user_idx = 0\n",
    "predictions = predict(user_emb[user_idx], user_bias[user_idx], item_emb, item_bias, 10)\n",
    "predictions"
   ]
  },
  {
   "cell_type": "code",
   "execution_count": 144,
   "id": "bbe96532-8b0a-4798-8649-39907e88e516",
   "metadata": {
    "tags": []
   },
   "outputs": [],
   "source": [
    "prediction_embedding = user_emb[0]\n",
    "prediction_bias = user_bias[0]\n",
    "n_recommendations = 10\n",
    "\n",
    "user_emb = model.user_factors.weight.detach().numpy()\n",
    "user_bias = model.user_bias.weight.detach().numpy()\n",
    "\n",
    "item_emb = model.item_factors.weight.detach().numpy()\n",
    "item_bias = model.item_bias.weight.detach().numpy()\n",
    "\n",
    "\n",
    "recommentation_list = []\n",
    "\n",
    "for i in range(len(item_emb)):\n",
    "    item_embedding = item_emb[i]\n",
    "    item_bias_prediction = item_bias[i]\n",
    "\n",
    "    # Making predictions for each event in the form (i, predictions)\n",
    "    res = np.dot(prediction_embedding, item_embedding)\n",
    "    res += prediction_bias \n",
    "    res += item_bias_prediction\n",
    "    recommentation_list.append((i,sigmoid_range(torch.from_numpy(res), *input_range)))\n",
    "\n",
    "# sort into a list and get only the n_recommendations\n",
    "recommentation_list = sorted(recommentation_list, key=lambda x: x[1], reverse=True)[:n_recommendations]\n",
    "\n",
    "# getting only the keys\n",
    "recommentation_list = dict(recommentation_list)\n",
    "recommentation_list = sorted(recommentation_list, key=recommentation_list.get, reverse=True)\n"
   ]
  },
  {
   "cell_type": "code",
   "execution_count": 145,
   "id": "c132bbdd-701c-423a-91ce-3ebd856fbf7f",
   "metadata": {
    "tags": []
   },
   "outputs": [
    {
     "data": {
      "text/plain": [
       "[494, 585, 1127, 1505, 1010, 1260, 1638, 1596, 718, 348]"
      ]
     },
     "execution_count": 145,
     "metadata": {},
     "output_type": "execute_result"
    }
   ],
   "source": [
    "recommentation_list\n"
   ]
  }
 ],
 "metadata": {
  "kernelspec": {
   "display_name": "Python 3 (ipykernel)",
   "language": "python",
   "name": "python3"
  },
  "language_info": {
   "codemirror_mode": {
    "name": "ipython",
    "version": 3
   },
   "file_extension": ".py",
   "mimetype": "text/x-python",
   "name": "python",
   "nbconvert_exporter": "python",
   "pygments_lexer": "ipython3",
   "version": "3.10.10"
  }
 },
 "nbformat": 4,
 "nbformat_minor": 5
}
