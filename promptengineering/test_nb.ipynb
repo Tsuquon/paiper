{
 "cells": [
  {
   "cell_type": "markdown",
   "id": "11f53241-1fe5-4bd2-b9de-fe00b1a56bcf",
   "metadata": {},
   "source": [
    "## Setup"
   ]
  },
  {
   "cell_type": "code",
   "execution_count": 12,
   "id": "485fd2ba-cbb2-4f50-990a-36e091e48833",
   "metadata": {},
   "outputs": [],
   "source": [
    "from langchain_openai import ChatOpenAI\n",
    "from langchain.prompts import PromptTemplate\n",
    "from langchain.chains import LLMChain\n",
    "from langchain_core.prompts import ChatPromptTemplate\n",
    "from langchain_core.pydantic_v1 import BaseModel, Field\n",
    "import openai\n",
    "import os\n",
    "from prompts import PromptGenerator"
   ]
  },
  {
   "cell_type": "code",
   "execution_count": 3,
   "id": "32141631-af3b-4874-a026-4fd331a5b56f",
   "metadata": {},
   "outputs": [],
   "source": [
    "openai.api_key = os.environ[\"OPENAI_API_KEY\"]"
   ]
  },
  {
   "cell_type": "markdown",
   "id": "39bce655-aa8e-4e79-bbe0-f8ade0c82126",
   "metadata": {},
   "source": [
    "## Test key"
   ]
  },
  {
   "cell_type": "code",
   "execution_count": 11,
   "id": "75bd468e-6bff-4530-9451-7dc7ee50ca90",
   "metadata": {},
   "outputs": [],
   "source": [
    "llm = ChatOpenAI(temperature=0.9, model_name=\"gpt-3.5-turbo\")"
   ]
  },
  {
   "cell_type": "code",
   "execution_count": 10,
   "id": "fda557c7-eeb9-4d7f-b7c3-5d73a538b342",
   "metadata": {},
   "outputs": [
    {
     "name": "stdout",
     "output_type": "stream",
     "text": [
      "content=\"Why don't scientists trust atoms?\\n\\nBecause they make up everything!\" response_metadata={'token_usage': {'completion_tokens': 13, 'prompt_tokens': 11, 'total_tokens': 24}, 'model_name': 'gpt-3.5-turbo-0125', 'system_fingerprint': None, 'finish_reason': 'stop', 'logprobs': None} id='run-56b7d715-b0be-4901-8e6c-9eb6e5dba34c-0' usage_metadata={'input_tokens': 11, 'output_tokens': 13, 'total_tokens': 24}\n"
     ]
    }
   ],
   "source": [
    "answer = llm.invoke(\"Print a short joke\")\n",
    "print(answer)"
   ]
  },
  {
   "cell_type": "markdown",
   "id": "141f1ace-0f2d-4afa-b5f1-bd4179d842cb",
   "metadata": {},
   "source": [
    "## Output Parsing"
   ]
  },
  {
   "cell_type": "code",
   "execution_count": 15,
   "id": "34fde108-c75d-4eb3-ab85-803591db6399",
   "metadata": {},
   "outputs": [],
   "source": [
    "# event_description = \"\"\"MADSOC welcomes you to come along to our welcome drinks at Courtyard USYD to celebrate another year with MADSOC!! This is a great opportunity to come and meet our amazing exec in person, to ask any questions you may have about the society/classes/comp team, and to also make some new friends!\n",
    "\n",
    "# WHEN: Thursday 2nd March, 5pm to 7pm\n",
    "\n",
    "# WHERE: Courtyard USYD\n",
    "\n",
    "# COST: |MADSOC members: FREE| |USU-members: $5| |Non-members: $10|\"\"\"\n",
    "\n",
    "\n",
    "# price_check_prompt = PromptGenerator.fill_price_check_prompt(event_description = event_description)\n",
    "\n",
    "tagging_prompt = ChatPromptTemplate.from_template(\n",
    "    \"\"\"\n",
    "Extract the desired information from the following passage.\n",
    "\n",
    "Only extract the properties mentioned in the 'Classification' function.\n",
    "\n",
    "Passage:\n",
    "{input}\n",
    "\"\"\"\n",
    ")"
   ]
  },
  {
   "cell_type": "code",
   "execution_count": 16,
   "id": "62dc779e-c1ae-4855-b7f8-d1757a1f49be",
   "metadata": {},
   "outputs": [],
   "source": [
    "category_list = [\"Arts\", \"Academics\", \"Culture and Language\", \"Faith and Religion\", \"Political\",\n",
    "                 \"Professional\", \"Social Impact and Advocacy\", \"Sport and Recreation\"]\n",
    "\n",
    "class event(BaseModel):\n",
    "    category: str = Field(...,\n",
    "                          description=\"The best category for the event\",\n",
    "                          enum=category_list)\n",
    "    cost: int = Field(\n",
    "        description=\"Minimum Cost of attending the event\"\n",
    "    )"
   ]
  },
  {
   "cell_type": "code",
   "execution_count": 17,
   "id": "7269c72c-cc08-4928-83f1-605a21bfa5cf",
   "metadata": {},
   "outputs": [],
   "source": [
    "llm = ChatOpenAI(temperature=0, model=\"gpt-3.5-turbo-0125\").with_structured_output(\n",
    "    event\n",
    ")\n",
    "\n",
    "chain = tagging_prompt | llm"
   ]
  },
  {
   "cell_type": "code",
   "execution_count": 18,
   "id": "5661a1e5-daab-44d6-bab7-10ef6450ef0c",
   "metadata": {},
   "outputs": [
    {
     "data": {
      "text/plain": [
       "event(category='Social Impact and Advocacy', cost=0)"
      ]
     },
     "execution_count": 18,
     "metadata": {},
     "output_type": "execute_result"
    }
   ],
   "source": [
    "inp = \"\"\"MADSOC welcomes you to come along to our welcome drinks at Courtyard USYD to celebrate another year with MADSOC!! This is a great opportunity to come and meet our amazing exec in person, to ask any questions you may have about the society/classes/comp team, and to also make some new friends!\n",
    "\n",
    "WHEN: Thursday 2nd March, 5pm to 7pm\n",
    "\n",
    "WHERE: Courtyard USYD\n",
    "\n",
    "COST: |MADSOC members: FREE| |USU-members: $5| |Non-members: $10|\"\"\"\n",
    "chain.invoke({\"input\": inp})"
   ]
  }
 ],
 "metadata": {
  "kernelspec": {
   "display_name": "Python 3 (ipykernel)",
   "language": "python",
   "name": "python3"
  },
  "language_info": {
   "codemirror_mode": {
    "name": "ipython",
    "version": 3
   },
   "file_extension": ".py",
   "mimetype": "text/x-python",
   "name": "python",
   "nbconvert_exporter": "python",
   "pygments_lexer": "ipython3",
   "version": "3.12.4"
  }
 },
 "nbformat": 4,
 "nbformat_minor": 5
}
